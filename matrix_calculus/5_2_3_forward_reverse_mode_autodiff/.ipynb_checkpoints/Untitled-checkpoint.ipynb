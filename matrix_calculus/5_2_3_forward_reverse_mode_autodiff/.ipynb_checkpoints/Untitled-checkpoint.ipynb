{
 "cells": [
  {
   "cell_type": "code",
   "execution_count": 22,
   "id": "d131c8d8-5756-4c86-a1d2-37cb60ca6e66",
   "metadata": {},
   "outputs": [],
   "source": [
    "import numpy as np\n",
    "import jax.numpy as jnp\n",
    "import jax"
   ]
  },
  {
   "cell_type": "code",
   "execution_count": 99,
   "id": "f4cac727-7428-4465-a328-a88855c87cdd",
   "metadata": {},
   "outputs": [],
   "source": [
    "def f(x):\n",
    "    return np.multiply(x, x)"
   ]
  },
  {
   "cell_type": "code",
   "execution_count": 120,
   "id": "60c0a0b2-5516-4f26-84ae-1d7503e47ff1",
   "metadata": {},
   "outputs": [],
   "source": [
    "@jax.custom_jvp\n",
    "def f(x):\n",
    "    return np.multiply(x, x)\n",
    "\n",
    "@f.defjvp\n",
    "def f_jvp(primals, tangents):\n",
    "    x, = primals\n",
    "    x_dot, = tangents\n",
    "    primal_out = f(x)\n",
    "    tangent_out = 2 * x * x_dot\n",
    "    return primal_out, tangent_out"
   ]
  },
  {
   "cell_type": "code",
   "execution_count": 121,
   "id": "e2f19732-08f0-4e5f-b08f-e21c2dbf52d6",
   "metadata": {},
   "outputs": [],
   "source": [
    "def f(x):\n",
    "    return jnp.multiply(x, x)"
   ]
  },
  {
   "cell_type": "code",
   "execution_count": 122,
   "id": "1c49b5eb-9871-427e-9e78-14fe1e248c9a",
   "metadata": {},
   "outputs": [],
   "source": [
    "def another_fun(x):\n",
    "    return jnp.array([\n",
    "        x[0] / x[1] * x[2],\n",
    "        x[0] * x[1] / x[2],\n",
    "    ])\n",
    "\n",
    "def yet_another_fun(x):\n",
    "    return jnp.array([\n",
    "        x[0] ** 2 * x[1] ** x[2],\n",
    "        x[0] / (x[1] + x[2]),\n",
    "    ])"
   ]
  },
  {
   "cell_type": "code",
   "execution_count": 123,
   "id": "f84943d6-0138-4d42-8852-cf44943a8448",
   "metadata": {},
   "outputs": [],
   "source": [
    "def g(x):\n",
    "    return yet_another_fun(f(another_fun(x)))"
   ]
  },
  {
   "cell_type": "code",
   "execution_count": 124,
   "id": "120841bb-a9a0-4740-97ee-c16b47752407",
   "metadata": {},
   "outputs": [],
   "source": [
    "evaluation_point = jnp.array([1.0, 0.5, 1.5, 2.0])"
   ]
  },
  {
   "cell_type": "code",
   "execution_count": 125,
   "id": "79df9417-c568-4d50-916d-6c3cd796d195",
   "metadata": {},
   "outputs": [],
   "source": [
    "multiplication_point = jnp.array([0.2, 0.3, 0.4, 0.8])"
   ]
  },
  {
   "cell_type": "code",
   "execution_count": 126,
   "id": "09382c8d-0cb9-48ab-b4ed-a14c82218ec3",
   "metadata": {
    "scrolled": true
   },
   "outputs": [
    {
     "data": {
      "text/plain": [
       "(Array([63.453865, 40.499996], dtype=float32),\n",
       " Array([-42.84575, -54.     ], dtype=float32))"
      ]
     },
     "execution_count": 126,
     "metadata": {},
     "output_type": "execute_result"
    }
   ],
   "source": [
    "jax.jvp(g, (evaluation_point, ), (multiplication_point, ))"
   ]
  },
  {
   "cell_type": "code",
   "execution_count": null,
   "id": "f261ed99-5aaa-4fd5-8802-9873c12cd93e",
   "metadata": {},
   "outputs": [],
   "source": []
  },
  {
   "cell_type": "code",
   "execution_count": null,
   "id": "35dd21f4-6cf1-43e7-9743-04f3a9e5c8c0",
   "metadata": {},
   "outputs": [],
   "source": []
  }
 ],
 "metadata": {
  "kernelspec": {
   "display_name": "Python 3 (ipykernel)",
   "language": "python",
   "name": "python3"
  },
  "language_info": {
   "codemirror_mode": {
    "name": "ipython",
    "version": 3
   },
   "file_extension": ".py",
   "mimetype": "text/x-python",
   "name": "python",
   "nbconvert_exporter": "python",
   "pygments_lexer": "ipython3",
   "version": "3.9.12"
  }
 },
 "nbformat": 4,
 "nbformat_minor": 5
}
