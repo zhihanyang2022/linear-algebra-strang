{
 "cells": [
  {
   "cell_type": "code",
   "execution_count": 4,
   "id": "00c55de3-e8d3-471e-9532-97ffced9e799",
   "metadata": {},
   "outputs": [
    {
     "data": {
      "text/plain": [
       "2.9112377262430016"
      ]
     },
     "execution_count": 4,
     "metadata": {},
     "output_type": "execute_result"
    }
   ],
   "source": [
    "from scipy.stats import norm\n",
    "\n",
    "norm.ppf(0.9982)"
   ]
  },
  {
   "cell_type": "code",
   "execution_count": null,
   "id": "6641366f-f6b7-4298-9081-62ed4d29b7a5",
   "metadata": {},
   "outputs": [],
   "source": []
  }
 ],
 "metadata": {
  "kernelspec": {
   "display_name": "Python 3 (ipykernel)",
   "language": "python",
   "name": "python3"
  },
  "language_info": {
   "codemirror_mode": {
    "name": "ipython",
    "version": 3
   },
   "file_extension": ".py",
   "mimetype": "text/x-python",
   "name": "python",
   "nbconvert_exporter": "python",
   "pygments_lexer": "ipython3",
   "version": "3.9.12"
  }
 },
 "nbformat": 4,
 "nbformat_minor": 5
}
