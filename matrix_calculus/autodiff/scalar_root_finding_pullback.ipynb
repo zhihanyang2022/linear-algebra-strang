{
 "cells": [
  {
   "cell_type": "markdown",
   "id": "7dda425f-c2d0-483d-91fe-eb85abd0a1cc",
   "metadata": {},
   "source": [
    "# Scalar root finding pullback / vJP rule"
   ]
  },
  {
   "cell_type": "code",
   "execution_count": 13,
   "id": "da42488a-6803-4066-a002-b13a46deb36a",
   "metadata": {},
   "outputs": [],
   "source": [
    "import jax\n",
    "import jax.numpy as np\n",
    "\n",
    "from functools import partial"
   ]
  },
  {
   "cell_type": "markdown",
   "id": "decdf8ea-fab9-43b7-84ef-9aa5e9d59aa7",
   "metadata": {},
   "source": [
    "## Theory"
   ]
  },
  {
   "cell_type": "markdown",
   "id": "321b63ea-44f2-4e68-93dd-333501e6ea4e",
   "metadata": {},
   "source": [
    "**Function:**\n",
    "\n",
    "$$f(\\theta)=\\{ \\text{solve } g(x, \\theta) = 0 \\text{ for } x\\} \\triangleq x$$\n",
    "\n",
    "where $x\\in \\mathbb{R}$, $\\theta \\in \\mathbb{R}$, $g: \\mathbb{R} \\times \\mathbb{R} \\rightarrow \\mathbb{R}$ and $f: \\mathbb{R} \\rightarrow \\mathbb{R}$. Solve could be done using iterative solvers such as Bisection method or Netwon-Raphson method."
   ]
  },
  {
   "cell_type": "markdown",
   "id": "d37525a7-4872-472c-a6cb-c8cebfaf865f",
   "metadata": {},
   "source": [
    "**Task:** Backpropagate $\\bar{x} \\in \\mathbb{R}$ to $\\mathbb{\\theta} \\in \\mathbb{R}$ with reverse-mode AD without doing it through the solver (sometimes called unrolling or piggy packing):\n",
    "\n",
    "$$\\bar{\\theta} = \\bar{x} \\frac{\\partial x}{\\partial \\theta}$$\n",
    "\n",
    "We need to find $\\frac{\\partial x}{\\partial \\theta}$."
   ]
  },
  {
   "cell_type": "markdown",
   "id": "4eb7148b-9e66-4577-a9cc-93d8622637e7",
   "metadata": {},
   "source": [
    "**Derivation:** The input and output are related by the following relation: \n",
    "\n",
    "$$g(x, \\theta) = 0.$$\n",
    "\n",
    "This is actually a really interesting perspective to have of a solver! To get a bit of intuition, think of how you would define a circle centered at the origin as $f(x, y) = x^2 + y^2 - r^2 = 0$.\n",
    "\n",
    "Calculating the total derivative of both sides (implicit differentiation) wrt $\\theta$, we get\n",
    "\n",
    "\\begin{align}\n",
    "\\frac{d}{d\\theta} \\{ g(x, \\theta) \\} &= 0 \\\\\n",
    "\\frac{\\partial g}{\\partial x} \\frac{\\partial x}{\\partial \\theta} + \\frac{\\partial g}{\\partial \\theta} 1 &= 0 \\\\\n",
    "\\frac{\\partial x}{\\partial \\theta} &= - \\frac{\\frac{\\partial g}{\\partial \\theta}}{\\frac{\\partial g}{\\partial x}}.\n",
    "\\end{align}"
   ]
  },
  {
   "cell_type": "markdown",
   "id": "ceb12db0-b0e1-4952-bbbb-441d228d5810",
   "metadata": {},
   "source": [
    "## Simple example: inverting $f(x) = x^2$"
   ]
  },
  {
   "cell_type": "code",
   "execution_count": 197,
   "id": "715b8610-b43d-461d-8573-4a5b94038bed",
   "metadata": {},
   "outputs": [],
   "source": [
    "def f(x):\n",
    "    return x ** 2"
   ]
  },
  {
   "cell_type": "code",
   "execution_count": 210,
   "id": "0de18a2e-a234-43fb-92d5-aeee8d28979e",
   "metadata": {},
   "outputs": [],
   "source": [
    "def g(x, θ):  # the roots of this function would be solutions to f(x) = theta\n",
    "    return f(x) - θ\n",
    "\n",
    "dg_dx = jax.grad(g, argnums=0)\n",
    "dg_dθ = jax.grad(g, argnums=1)"
   ]
  },
  {
   "cell_type": "code",
   "execution_count": 211,
   "id": "e55eeb85-4cac-4446-83d8-462f5912bae9",
   "metadata": {},
   "outputs": [],
   "source": [
    "def nr_one_step(_, x, θ):\n",
    "    return x - g(x, θ) / dg_dx(x, θ)"
   ]
  },
  {
   "cell_type": "code",
   "execution_count": 216,
   "id": "20b66139-304d-4214-a70c-93da04f4635d",
   "metadata": {},
   "outputs": [],
   "source": [
    "def nr(θ, n_iters=1000, init_val=1.):\n",
    "    nr_one_step_partial = partial(nr_one_step, θ=θ)\n",
    "    return jax.lax.fori_loop(0, n_iters, nr_one_step_partial, init_val=init_val)"
   ]
  },
  {
   "cell_type": "code",
   "execution_count": 217,
   "id": "2a2035d2-ba14-4b96-b2da-015c95126c44",
   "metadata": {},
   "outputs": [
    {
     "data": {
      "text/plain": [
       "Array(3., dtype=float32, weak_type=True)"
      ]
     },
     "execution_count": 217,
     "metadata": {},
     "output_type": "execute_result"
    }
   ],
   "source": [
    "nr(9.)"
   ]
  },
  {
   "cell_type": "markdown",
   "id": "6075a978-46ed-447d-9a81-b81a5cfca198",
   "metadata": {},
   "source": [
    "Two ways of computing $\\frac{\\partial x}{\\partial \\theta}$:"
   ]
  },
  {
   "cell_type": "code",
   "execution_count": 218,
   "id": "5945e15f-a104-4b58-aab3-95b8f4645e00",
   "metadata": {},
   "outputs": [],
   "source": [
    "dx_dθ_unrolled = jax.jit(jax.grad(nr))"
   ]
  },
  {
   "cell_type": "code",
   "execution_count": 219,
   "id": "158ebd29-29d6-4a8e-95cd-b2786ad2bde7",
   "metadata": {},
   "outputs": [
    {
     "name": "stdout",
     "output_type": "stream",
     "text": [
      "19.1 µs ± 49.6 ns per loop (mean ± std. dev. of 7 runs, 100,000 loops each)\n"
     ]
    }
   ],
   "source": [
    "%timeit dx_dθ_unrolled(9.)"
   ]
  },
  {
   "cell_type": "code",
   "execution_count": 220,
   "id": "1a7f26bf-7ce9-434a-90c8-2aabaca67639",
   "metadata": {},
   "outputs": [],
   "source": [
    "@jax.jit\n",
    "def dx_dθ_implicit(x, theta):\n",
    "    return - dg_dθ(x, theta) / dg_dx(x, theta)"
   ]
  },
  {
   "cell_type": "code",
   "execution_count": 221,
   "id": "e33d150f-8c0d-4b05-9b36-178c99d07a80",
   "metadata": {},
   "outputs": [
    {
     "name": "stdout",
     "output_type": "stream",
     "text": [
      "3.3 µs ± 27.5 ns per loop (mean ± std. dev. of 7 runs, 100,000 loops each)\n"
     ]
    }
   ],
   "source": [
    "%timeit dx_dθ_implicit(3., 9.)"
   ]
  },
  {
   "cell_type": "markdown",
   "id": "6793fd07-4e06-4e37-a34d-e4ddc96581df",
   "metadata": {},
   "source": [
    "But to what extend is this truly useful? If the forward pass is too slow we probably don't want the solve anyway. "
   ]
  },
  {
   "cell_type": "code",
   "execution_count": null,
   "id": "c98c559f-27ab-47d6-aeb9-9a8992c1a85f",
   "metadata": {},
   "outputs": [],
   "source": []
  }
 ],
 "metadata": {
  "kernelspec": {
   "display_name": "Python 3 (ipykernel)",
   "language": "python",
   "name": "python3"
  },
  "language_info": {
   "codemirror_mode": {
    "name": "ipython",
    "version": 3
   },
   "file_extension": ".py",
   "mimetype": "text/x-python",
   "name": "python",
   "nbconvert_exporter": "python",
   "pygments_lexer": "ipython3",
   "version": "3.9.12"
  }
 },
 "nbformat": 4,
 "nbformat_minor": 5
}
