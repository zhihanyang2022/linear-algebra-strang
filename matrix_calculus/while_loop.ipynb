{
 "cells": [
  {
   "cell_type": "code",
   "execution_count": 1,
   "id": "00c55de3-e8d3-471e-9532-97ffced9e799",
   "metadata": {},
   "outputs": [],
   "source": [
    "def while_loop(cond_fun, body_fun, init_val):\n",
    "  val = init_val\n",
    "  while cond_fun(val):\n",
    "    val = body_fun(val)\n",
    "  return val"
   ]
  },
  {
   "cell_type": "code",
   "execution_count": 2,
   "id": "6641366f-f6b7-4298-9081-62ed4d29b7a5",
   "metadata": {},
   "outputs": [],
   "source": [
    "import jax\n",
    "import jax.numpy as np\n",
    "import time"
   ]
  },
  {
   "cell_type": "code",
   "execution_count": null,
   "id": "cc31bfb8-4203-423c-ac41-21b389bf632b",
   "metadata": {},
   "outputs": [],
   "source": [
    "start = time.perf_counter()\n",
    "jax.jit(jax.lax.while_loop, static_argnums=(0, 1))(lambda x: x > 0, lambda x: x - 1, 1e8)\n",
    "end = time.perf_counter()\n",
    "end - start"
   ]
  },
  {
   "cell_type": "code",
   "execution_count": 4,
   "id": "4730a6b2-6d76-4dd0-892c-6ba606de69eb",
   "metadata": {},
   "outputs": [],
   "source": [
    "while_loop_vectorized = jax.jit(jax.vmap(jax.lax.while_loop, (None, None, 0), 0), static_argnums=(0, 1))"
   ]
  },
  {
   "cell_type": "code",
   "execution_count": 15,
   "id": "debafede-787c-4db2-96bb-8864fe3681f0",
   "metadata": {},
   "outputs": [
    {
     "name": "stdout",
     "output_type": "stream",
     "text": [
      "14.4 ms ± 92.3 µs per loop (mean ± std. dev. of 7 runs, 100 loops each)\n"
     ]
    }
   ],
   "source": [
    "%timeit while_loop_vectorized(lambda x: x > 1, lambda x: x - 1, np.array([1., 2., 3.]))"
   ]
  },
  {
   "cell_type": "code",
   "execution_count": 11,
   "id": "2b546cc5-17a0-4987-aecd-7372c8e32eb8",
   "metadata": {},
   "outputs": [
    {
     "data": {
      "text/plain": [
       "Array([0.], dtype=float32)"
      ]
     },
     "execution_count": 11,
     "metadata": {},
     "output_type": "execute_result"
    }
   ],
   "source": [
    "while_loop_vectorized(lambda x: x > 0, lambda x: x - 1, np.array([1.]))"
   ]
  },
  {
   "cell_type": "code",
   "execution_count": 10,
   "id": "a5221018-c404-47b8-9de1-156707482ba1",
   "metadata": {},
   "outputs": [
    {
     "data": {
      "text/plain": [
       "Array([0, 0], dtype=int32)"
      ]
     },
     "execution_count": 10,
     "metadata": {},
     "output_type": "execute_result"
    }
   ],
   "source": [
    "while_loop_vectorized(lambda x: x > 0, lambda x: x - 1, np.array([1000, 2000]))"
   ]
  },
  {
   "cell_type": "code",
   "execution_count": 17,
   "id": "1e6162c5-e407-481c-ba8a-31a3c1cc70b5",
   "metadata": {},
   "outputs": [
    {
     "name": "stdout",
     "output_type": "stream",
     "text": [
      "14.8 ms ± 148 µs per loop (mean ± std. dev. of 7 runs, 100 loops each)\n"
     ]
    }
   ],
   "source": [
    "%timeit while_loop_vectorized(lambda x: x > 0, lambda x: x - 1, np.array([1000, 2000, 3000]))"
   ]
  },
  {
   "cell_type": "code",
   "execution_count": 14,
   "id": "6ddda241-32d3-4ac3-89fd-b8180b6276aa",
   "metadata": {},
   "outputs": [
    {
     "name": "stdout",
     "output_type": "stream",
     "text": [
      "35.6 µs ± 335 ns per loop (mean ± std. dev. of 7 runs, 10,000 loops each)\n"
     ]
    }
   ],
   "source": [
    "%timeit np.arange(5)"
   ]
  },
  {
   "cell_type": "code",
   "execution_count": null,
   "id": "57831aef-4dcd-4be2-af36-bca07efd375c",
   "metadata": {},
   "outputs": [],
   "source": [
    "# req 1: must fix max iterations (just in case!)\n",
    "# req 2: must have early stopping requirement\n",
    "# use fori loop"
   ]
  }
 ],
 "metadata": {
  "kernelspec": {
   "display_name": "Python 3 (ipykernel)",
   "language": "python",
   "name": "python3"
  },
  "language_info": {
   "codemirror_mode": {
    "name": "ipython",
    "version": 3
   },
   "file_extension": ".py",
   "mimetype": "text/x-python",
   "name": "python",
   "nbconvert_exporter": "python",
   "pygments_lexer": "ipython3",
   "version": "3.9.12"
  }
 },
 "nbformat": 4,
 "nbformat_minor": 5
}
