{
 "cells": [
  {
   "cell_type": "code",
   "execution_count": 1,
   "id": "5feb74a6-bcec-4043-a84c-e28f8dc1078a",
   "metadata": {},
   "outputs": [],
   "source": [
    "import jax\n",
    "import jax.numpy as np"
   ]
  },
  {
   "cell_type": "code",
   "execution_count": 11,
   "id": "09a90485-23d4-44a4-a9fd-e298134eb47b",
   "metadata": {},
   "outputs": [],
   "source": [
    "def f(A):\n",
    "    return A @ A @ A"
   ]
  },
  {
   "cell_type": "code",
   "execution_count": 12,
   "id": "047f9091-e091-4bd0-bb16-0b06ff7910d0",
   "metadata": {},
   "outputs": [],
   "source": [
    "key = jax.random.PRNGKey(42)\n",
    "A = jax.random.normal(key=key, shape=(5, 5))"
   ]
  },
  {
   "cell_type": "code",
   "execution_count": 56,
   "id": "90e72642-34b7-48a8-b9f6-47c2ebb9299f",
   "metadata": {},
   "outputs": [],
   "source": [
    "f_jac_autodiff = jax.jacrev(f)(A)"
   ]
  },
  {
   "cell_type": "code",
   "execution_count": 57,
   "id": "8ccfed19-1d03-497f-9b59-079e2c09a36d",
   "metadata": {},
   "outputs": [],
   "source": [
    "f_jac_manual = (np.kron(A.T, A) + np.kron((A @ A).T, np.eye(5)) + np.kron(np.eye(5), A @ A)).reshape(5, 5, 5, 5, order=\"F\")"
   ]
  },
  {
   "cell_type": "code",
   "execution_count": 58,
   "id": "4b6cf152-9b69-40c6-a3f7-47950288bbf5",
   "metadata": {},
   "outputs": [
    {
     "data": {
      "text/plain": [
       "Array(True, dtype=bool)"
      ]
     },
     "execution_count": 58,
     "metadata": {},
     "output_type": "execute_result"
    }
   ],
   "source": [
    "np.allclose(f_jac_auto, f_jac_manual)"
   ]
  },
  {
   "cell_type": "code",
   "execution_count": null,
   "id": "b20c5cb5-8208-4f8e-9905-81a4632b1833",
   "metadata": {},
   "outputs": [],
   "source": []
  }
 ],
 "metadata": {
  "kernelspec": {
   "display_name": "Python 3 (ipykernel)",
   "language": "python",
   "name": "python3"
  },
  "language_info": {
   "codemirror_mode": {
    "name": "ipython",
    "version": 3
   },
   "file_extension": ".py",
   "mimetype": "text/x-python",
   "name": "python",
   "nbconvert_exporter": "python",
   "pygments_lexer": "ipython3",
   "version": "3.9.12"
  }
 },
 "nbformat": 4,
 "nbformat_minor": 5
}
