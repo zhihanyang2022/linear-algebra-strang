{
 "cells": [
  {
   "cell_type": "code",
   "execution_count": 1,
   "id": "0f54333d-d2b0-4aa9-9cba-e6bf07653a8c",
   "metadata": {},
   "outputs": [],
   "source": [
    "import numpy as np"
   ]
  },
  {
   "cell_type": "code",
   "execution_count": 3,
   "id": "b659b6ed-3f06-49d3-842e-cd85f56f8fb4",
   "metadata": {},
   "outputs": [],
   "source": [
    "A = np.array([\n",
    "    [1, 0, 0],\n",
    "    [0, 2, 0],\n",
    "    [0, 0, 3]\n",
    "])\n",
    "b = np.array([\n",
    "    [1],\n",
    "    [1],\n",
    "    [1]\n",
    "])"
   ]
  },
  {
   "cell_type": "code",
   "execution_count": 6,
   "id": "cd1f2a6b-0574-428d-968f-bdc1065e088b",
   "metadata": {},
   "outputs": [
    {
     "data": {
      "text/plain": [
       "array([[1, 2, 3]])"
      ]
     },
     "execution_count": 6,
     "metadata": {},
     "output_type": "execute_result"
    }
   ],
   "source": [
    "b.T @ A"
   ]
  },
  {
   "cell_type": "code",
   "execution_count": 8,
   "id": "2ca6f5a6-a2c4-4997-8208-aef8e9a511e3",
   "metadata": {},
   "outputs": [],
   "source": [
    "A = np.random.normal(size=(4, 5))\n",
    "B = np.random.normal(size=(4, 5))\n",
    "one = np.ones((5, 1))"
   ]
  },
  {
   "cell_type": "code",
   "execution_count": 9,
   "id": "27f29267-a08b-4c41-9c40-2edccf26328b",
   "metadata": {},
   "outputs": [
    {
     "data": {
      "text/plain": [
       "array([[-1.11348334],\n",
       "       [-2.79905244],\n",
       "       [ 0.10522111],\n",
       "       [ 2.87547701]])"
      ]
     },
     "execution_count": 9,
     "metadata": {},
     "output_type": "execute_result"
    }
   ],
   "source": [
    "(A * B) @ one"
   ]
  },
  {
   "cell_type": "code",
   "execution_count": 10,
   "id": "8534bd18-5b02-4085-8479-8e2608ba573a",
   "metadata": {},
   "outputs": [
    {
     "data": {
      "text/plain": [
       "array([[-1.11348334,  1.45296456, -3.8542414 , -0.70083324],\n",
       "       [ 0.09961436, -2.79905244,  3.30080192,  4.75460258],\n",
       "       [ 3.62693477, -0.31432662,  0.10522111, -2.92594191],\n",
       "       [ 0.50062153, -6.25978705,  1.77856271,  2.87547701]])"
      ]
     },
     "execution_count": 10,
     "metadata": {},
     "output_type": "execute_result"
    }
   ],
   "source": [
    "A @ B.T"
   ]
  },
  {
   "cell_type": "code",
   "execution_count": null,
   "id": "76061f26-b054-463f-b716-7bb913cc2485",
   "metadata": {},
   "outputs": [],
   "source": []
  }
 ],
 "metadata": {
  "kernelspec": {
   "display_name": "Python 3 (ipykernel)",
   "language": "python",
   "name": "python3"
  },
  "language_info": {
   "codemirror_mode": {
    "name": "ipython",
    "version": 3
   },
   "file_extension": ".py",
   "mimetype": "text/x-python",
   "name": "python",
   "nbconvert_exporter": "python",
   "pygments_lexer": "ipython3",
   "version": "3.9.12"
  }
 },
 "nbformat": 4,
 "nbformat_minor": 5
}
