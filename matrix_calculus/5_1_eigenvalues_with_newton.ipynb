{
 "cells": [
  {
   "cell_type": "code",
   "execution_count": 1,
   "id": "7e527fde-14a7-49ef-8c39-aae7ea54a8fb",
   "metadata": {},
   "outputs": [],
   "source": [
    "from jax import config\n",
    "config.update(\"jax_enable_x64\", True)"
   ]
  },
  {
   "cell_type": "code",
   "execution_count": 25,
   "id": "902ce321-4474-44fb-990c-11b3352ec079",
   "metadata": {},
   "outputs": [],
   "source": [
    "import numpy as np\n",
    "import scipy\n",
    "import jax\n",
    "import jax.numpy as jnp"
   ]
  },
  {
   "cell_type": "code",
   "execution_count": 26,
   "id": "5c05d91f-867f-4d21-adab-25d04ec2d3bc",
   "metadata": {},
   "outputs": [],
   "source": []
  },
  {
   "cell_type": "code",
   "execution_count": 39,
   "id": "d91d16e8-20aa-4b55-abe2-f62a01021fe3",
   "metadata": {},
   "outputs": [
    {
     "data": {
      "text/plain": [
       "Array([[ 5.06025801,  0.78664234, -0.77628148],\n",
       "       [ 0.78664234,  0.66290088, -0.39501919],\n",
       "       [-0.77628148, -0.39501919,  0.69472676]], dtype=float64)"
      ]
     },
     "execution_count": 39,
     "metadata": {},
     "output_type": "execute_result"
    }
   ],
   "source": [
    "# generate a random symmetric matrix (to have real eigenvalues)\n",
    "from jax import config\n",
    "config.update(\"jax_enable_x64\", True)\n",
    "\n",
    "import numpy as np\n",
    "import scipy\n",
    "import jax\n",
    "import jax.numpy as jnp\n",
    "\n",
    "# generate a random symmetric matrix (to have real eigenvalues)\n",
    "np.random.seed(42)\n",
    "pre_A = np.random.normal(size=(3, 3))\n",
    "A = pre_A.T @ pre_A\n",
    "A = jnp.array(A)\n",
    "\n",
    "# find the groundtruth eigenvalues\n",
    "print(scipy.linalg.eigvals(A))\n",
    "\n",
    "# this is f'(x)/f(x)\n",
    "def newton_update(x, A):\n",
    "    return 1 / jnp.trace(\n",
    "        jnp.linalg.inv( x * jnp.eye(A.shape[0]) - A )\n",
    "    )\n",
    "    \n",
    "# newton\n",
    "x = jnp.array([1.])  # initial guess\n",
    "for i in range(10):\n",
    "    x = x - newton_update(x, A)\n",
    "print(x)\n",
    "pre_A = np.random.normal(size=(3, 3))\n",
    "A = pre_A.T @ pre_A\n",
    "A = jnp.array(A)\n",
    "A"
   ]
  },
  {
   "cell_type": "code",
   "execution_count": 28,
   "id": "450710ba-8c5a-48c6-b443-7d41bd940669",
   "metadata": {},
   "outputs": [
    {
     "data": {
      "text/plain": [
       "array([5.34613967+0.j, 0.78854214+0.j, 0.28320384+0.j])"
      ]
     },
     "execution_count": 28,
     "metadata": {},
     "output_type": "execute_result"
    }
   ],
   "source": [
    "# find the groundtruth eigenvalues\n",
    "scipy.linalg.eigvals(A)"
   ]
  },
  {
   "cell_type": "markdown",
   "id": "646436f6-1332-4346-88b0-53d20bb71827",
   "metadata": {},
   "source": [
    "# Function for computing the determinant of xI - A"
   ]
  },
  {
   "cell_type": "code",
   "execution_count": 36,
   "id": "b6f2ecbf-27f6-40cb-bdea-c28439c6d6c6",
   "metadata": {},
   "outputs": [],
   "source": [
    "def det(x, A):\n",
    "    return jnp.linalg.det(x * jnp.eye(A.shape[0]) - A)"
   ]
  },
  {
   "cell_type": "markdown",
   "id": "3b830b2b-af43-4543-b27f-633cf8d123cd",
   "metadata": {},
   "source": [
    "# Automatic differention wrt x"
   ]
  },
  {
   "cell_type": "code",
   "execution_count": 37,
   "id": "1359b6db-2f2c-4a6d-ba3d-7785ff5dc1d2",
   "metadata": {},
   "outputs": [
    {
     "data": {
      "text/plain": [
       "Array([-3.88274946], dtype=float64)"
      ]
     },
     "execution_count": 37,
     "metadata": {},
     "output_type": "execute_result"
    }
   ],
   "source": [
    "automatic_grad = jax.grad(det)\n",
    "automatic_grad(jnp.array([1.,]), A)"
   ]
  },
  {
   "cell_type": "markdown",
   "id": "e27b95dd-ac66-4c4d-883c-6261f5e6f3cc",
   "metadata": {},
   "source": [
    "# Derived gradient wrt x"
   ]
  },
  {
   "cell_type": "code",
   "execution_count": 35,
   "id": "496150ec-5680-495b-a28c-bfda8c0140ad",
   "metadata": {},
   "outputs": [],
   "source": [
    "def derived_grad(x, A):\n",
    "    return det(x, A) * jnp.trace(\n",
    "        jnp.linalg.inv( x * jnp.eye(A.shape[0]) - A )\n",
    "    )"
   ]
  },
  {
   "cell_type": "code",
   "execution_count": 18,
   "id": "fe9080dd-983f-47bc-be1b-a42413d99655",
   "metadata": {
    "scrolled": true
   },
   "outputs": [
    {
     "data": {
      "text/plain": [
       "Array(-3.88274946, dtype=float64)"
      ]
     },
     "execution_count": 18,
     "metadata": {},
     "output_type": "execute_result"
    }
   ],
   "source": [
    "derived_grad(jnp.array([1.,]), A)"
   ]
  },
  {
   "cell_type": "markdown",
   "id": "c36b3a62-8a5b-4bf8-b9ae-70a320414755",
   "metadata": {},
   "source": [
    "# f'/f is the newton update (some stuff nicely cancels)"
   ]
  },
  {
   "cell_type": "code",
   "execution_count": 24,
   "id": "a3e78092-3a9a-4072-b9b8-c08a0a22b276",
   "metadata": {},
   "outputs": [],
   "source": [
    "def newton_update(x, A):\n",
    "    return 1 / jnp.trace(\n",
    "        jnp.linalg.inv( x * jnp.eye(A.shape[0]) - A )\n",
    "    )"
   ]
  },
  {
   "cell_type": "code",
   "execution_count": 31,
   "id": "6d12157c-3b1e-46ab-a0c1-5abc0c2ceb6d",
   "metadata": {},
   "outputs": [
    {
     "name": "stdout",
     "output_type": "stream",
     "text": [
      "[0.78854214]\n"
     ]
    }
   ],
   "source": [
    "x = jnp.array([1.,])\n",
    "for i in range(10):\n",
    "    x = x - newton_update(x, A)\n",
    "print(x)"
   ]
  },
  {
   "cell_type": "code",
   "execution_count": 1,
   "id": "32cf3ca6-d477-4908-b9f5-e6894991d984",
   "metadata": {},
   "outputs": [
    {
     "name": "stdout",
     "output_type": "stream",
     "text": [
      "[5.34613967+0.j 0.78854214+0.j 0.28320384+0.j]\n",
      "[0.78854214]\n"
     ]
    }
   ],
   "source": [
    "from jax import config\n",
    "config.update(\"jax_enable_x64\", True)\n",
    "\n",
    "import numpy as np\n",
    "import scipy\n",
    "import jax\n",
    "import jax.numpy as jnp\n",
    "\n",
    "# generate a random symmetric matrix (to have real eigenvalues)\n",
    "np.random.seed(42)\n",
    "pre_A = np.random.normal(size=(3, 3))\n",
    "A = pre_A.T @ pre_A\n",
    "A = jnp.array(A)\n",
    "\n",
    "# find the groundtruth eigenvalues\n",
    "print(scipy.linalg.eigvals(A))\n",
    "\n",
    "# this is f'(x)/f(x)\n",
    "def newton_update(x, A):\n",
    "    return 1 / jnp.trace(\n",
    "        jnp.linalg.inv( x * jnp.eye(A.shape[0]) - A )\n",
    "    )\n",
    "    \n",
    "# newton\n",
    "x = jnp.array([1.])  # initial guess\n",
    "for i in range(10):\n",
    "    x = x - newton_update(x, A)\n",
    "print(x)"
   ]
  },
  {
   "cell_type": "code",
   "execution_count": null,
   "id": "b6c920e1-d429-4468-8236-727edac679ec",
   "metadata": {},
   "outputs": [],
   "source": []
  }
 ],
 "metadata": {
  "kernelspec": {
   "display_name": "Python 3 (ipykernel)",
   "language": "python",
   "name": "python3"
  },
  "language_info": {
   "codemirror_mode": {
    "name": "ipython",
    "version": 3
   },
   "file_extension": ".py",
   "mimetype": "text/x-python",
   "name": "python",
   "nbconvert_exporter": "python",
   "pygments_lexer": "ipython3",
   "version": "3.9.12"
  }
 },
 "nbformat": 4,
 "nbformat_minor": 5
}
