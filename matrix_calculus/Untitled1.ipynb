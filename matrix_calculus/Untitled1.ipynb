{
 "cells": [
  {
   "cell_type": "code",
   "execution_count": 37,
   "id": "9d41230b-b1ad-4421-a12f-62fd6be64c08",
   "metadata": {},
   "outputs": [
    {
     "ename": "LoadError",
     "evalue": "UndefVarError: linear not defined",
     "output_type": "error",
     "traceback": [
      "UndefVarError: linear not defined",
      "",
      "Stacktrace:",
      " [1] top-level scope",
      "   @ In[37]:1"
     ]
    }
   ],
   "source": [
    "function rrule(::typeof(linear), X::Matrix{Float64}, W::Matrix{Float64}, b)\n",
    "    C = linear(X, W, b)\n",
    "    \n",
    "    function matmul_pullback(C_cotangent)\n",
    "        A_cotangent = C_cotangent\n",
    "        B_cotangent = C_cotangent\n",
    "        return A_cotangent, B_cotangent\n",
    "    end\n",
    "    \n",
    "    return C, matmul_pullback\n",
    "end"
   ]
  },
  {
   "cell_type": "code",
   "execution_count": null,
   "id": "96c30ea2-1902-4cbf-9659-a980e65463d6",
   "metadata": {},
   "outputs": [],
   "source": [
    "function rrule(::typeof(+)"
   ]
  },
  {
   "cell_type": "code",
   "execution_count": 41,
   "id": "4906a71d-323a-4490-8fe0-643bfa665f3c",
   "metadata": {},
   "outputs": [
    {
     "data": {
      "text/plain": [
       "([30.0 28.0 18.0; 50.0 57.0 24.0; 46.0 30.0 70.0], var\"#matmul_pullback#3\"())"
      ]
     },
     "execution_count": 41,
     "metadata": {},
     "output_type": "execute_result"
    }
   ],
   "source": [
    "C, pullback = rrule(*, A, B)"
   ]
  },
  {
   "cell_type": "code",
   "execution_count": null,
   "id": "d65400d5-1d30-4846-a830-d2a8c7f799db",
   "metadata": {},
   "outputs": [],
   "source": []
  }
 ],
 "metadata": {
  "kernelspec": {
   "display_name": "Julia 1.8.4",
   "language": "julia",
   "name": "julia-1.8"
  },
  "language_info": {
   "file_extension": ".jl",
   "mimetype": "application/julia",
   "name": "julia",
   "version": "1.8.4"
  }
 },
 "nbformat": 4,
 "nbformat_minor": 5
}
