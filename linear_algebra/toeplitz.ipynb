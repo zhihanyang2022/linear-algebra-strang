{
 "cells": [
  {
   "cell_type": "code",
   "execution_count": 13,
   "id": "21e157eb-0245-4ef6-b721-390b3f666a00",
   "metadata": {},
   "outputs": [],
   "source": [
    "import numpy as np\n",
    "from scipy.linalg import toeplitz, lu, inv\n",
    "np.set_printoptions(precision=5)"
   ]
  },
  {
   "cell_type": "code",
   "execution_count": 11,
   "id": "f39d6660-7ac4-4c81-8e74-917530406430",
   "metadata": {},
   "outputs": [],
   "source": [
    "K = toeplitz([2, -1, 0, 0, 0, 0])"
   ]
  },
  {
   "cell_type": "code",
   "execution_count": 16,
   "id": "33412c7d-9ed0-4322-ac5f-81817fe9cd38",
   "metadata": {},
   "outputs": [],
   "source": [
    "P, L, U = lu(K)"
   ]
  },
  {
   "cell_type": "code",
   "execution_count": 18,
   "id": "90ed47ae-b99d-43c4-a322-dd50883fccc5",
   "metadata": {},
   "outputs": [
    {
     "data": {
      "text/plain": [
       "(array([[1., 0., 0., 0., 0., 0.],\n",
       "        [0., 1., 0., 0., 0., 0.],\n",
       "        [0., 0., 1., 0., 0., 0.],\n",
       "        [0., 0., 0., 1., 0., 0.],\n",
       "        [0., 0., 0., 0., 1., 0.],\n",
       "        [0., 0., 0., 0., 0., 1.]]),\n",
       " array([[ 1.     ,  0.     ,  0.     ,  0.     ,  0.     ,  0.     ],\n",
       "        [-0.5    ,  1.     ,  0.     ,  0.     ,  0.     ,  0.     ],\n",
       "        [ 0.     , -0.66667,  1.     ,  0.     ,  0.     ,  0.     ],\n",
       "        [ 0.     ,  0.     , -0.75   ,  1.     ,  0.     ,  0.     ],\n",
       "        [ 0.     ,  0.     ,  0.     , -0.8    ,  1.     ,  0.     ],\n",
       "        [ 0.     ,  0.     ,  0.     ,  0.     , -0.83333,  1.     ]]),\n",
       " array([[ 2.     , -1.     ,  0.     ,  0.     ,  0.     ,  0.     ],\n",
       "        [ 0.     ,  1.5    , -1.     ,  0.     ,  0.     ,  0.     ],\n",
       "        [ 0.     ,  0.     ,  1.33333, -1.     ,  0.     ,  0.     ],\n",
       "        [ 0.     ,  0.     ,  0.     ,  1.25   , -1.     ,  0.     ],\n",
       "        [ 0.     ,  0.     ,  0.     ,  0.     ,  1.2    , -1.     ],\n",
       "        [ 0.     ,  0.     ,  0.     ,  0.     ,  0.     ,  1.16667]]))"
      ]
     },
     "execution_count": 18,
     "metadata": {},
     "output_type": "execute_result"
    }
   ],
   "source": [
    "P, L, U"
   ]
  },
  {
   "cell_type": "code",
   "execution_count": 17,
   "id": "e35c6159-b26b-46ff-ae8e-e1e938bbd0fd",
   "metadata": {},
   "outputs": [
    {
     "data": {
      "text/plain": [
       "array([[ 1.     ,  0.     ,  0.     ,  0.     , -0.     , -0.     ],\n",
       "       [ 0.5    ,  1.     ,  0.     ,  0.     , -0.     , -0.     ],\n",
       "       [ 0.33333,  0.66667,  1.     ,  0.     , -0.     , -0.     ],\n",
       "       [ 0.25   ,  0.5    ,  0.75   ,  1.     , -0.     , -0.     ],\n",
       "       [ 0.2    ,  0.4    ,  0.6    ,  0.8    ,  1.     , -0.     ],\n",
       "       [ 0.16667,  0.33333,  0.5    ,  0.66667,  0.83333,  1.     ]])"
      ]
     },
     "execution_count": 17,
     "metadata": {},
     "output_type": "execute_result"
    }
   ],
   "source": [
    "inv(L)"
   ]
  },
  {
   "cell_type": "code",
   "execution_count": null,
   "id": "9d079ab8-90b2-43fe-8152-b63d60bb4f7c",
   "metadata": {},
   "outputs": [],
   "source": []
  }
 ],
 "metadata": {
  "kernelspec": {
   "display_name": "Python 3 (ipykernel)",
   "language": "python",
   "name": "python3"
  },
  "language_info": {
   "codemirror_mode": {
    "name": "ipython",
    "version": 3
   },
   "file_extension": ".py",
   "mimetype": "text/x-python",
   "name": "python",
   "nbconvert_exporter": "python",
   "pygments_lexer": "ipython3",
   "version": "3.9.12"
  }
 },
 "nbformat": 4,
 "nbformat_minor": 5
}
