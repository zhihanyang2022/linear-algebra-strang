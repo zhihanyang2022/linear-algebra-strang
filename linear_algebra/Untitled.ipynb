{
 "cells": [
  {
   "cell_type": "code",
   "execution_count": 1,
   "id": "13640f3b-94fd-454f-88fa-62024943d729",
   "metadata": {},
   "outputs": [],
   "source": [
    "import jax\n",
    "import jax.numpy as np\n",
    "from jax.scipy.linalg import lu"
   ]
  },
  {
   "cell_type": "code",
   "execution_count": 19,
   "id": "0d35aec0-da9c-4f76-bc92-8551a1ff8ba0",
   "metadata": {},
   "outputs": [],
   "source": [
    "A = np.array([\n",
    "    [1, 2, 2, 2],\n",
    "    [2, 4, 6, 8],\n",
    "    [3, 6, 8, 10],\n",
    "])"
   ]
  },
  {
   "cell_type": "code",
   "execution_count": 20,
   "id": "75572313-4e90-4295-a1db-98da11d3dd91",
   "metadata": {},
   "outputs": [
    {
     "data": {
      "text/plain": [
       "(Array([[0., 0., 1.],\n",
       "        [0., 1., 0.],\n",
       "        [1., 0., 0.]], dtype=float32),\n",
       " Array([[1.        , 0.        , 0.        ],\n",
       "        [0.6666667 , 1.        , 0.        ],\n",
       "        [0.33333334, 0.5       , 1.        ]], dtype=float32),\n",
       " Array([[ 3.0000000e+00,  6.0000000e+00,  8.0000000e+00,  1.0000000e+01],\n",
       "        [ 0.0000000e+00, -1.1920929e-07,  6.6666651e-01,  1.3333330e+00],\n",
       "        [ 0.0000000e+00,  0.0000000e+00, -1.0000000e+00, -2.0000000e+00]],      dtype=float32))"
      ]
     },
     "execution_count": 20,
     "metadata": {},
     "output_type": "execute_result"
    }
   ],
   "source": [
    "lu(A)"
   ]
  },
  {
   "cell_type": "code",
   "execution_count": null,
   "id": "a225c79b-5f9b-463a-a1b7-1a929ee66c7f",
   "metadata": {},
   "outputs": [],
   "source": []
  }
 ],
 "metadata": {
  "kernelspec": {
   "display_name": "Python 3 (ipykernel)",
   "language": "python",
   "name": "python3"
  },
  "language_info": {
   "codemirror_mode": {
    "name": "ipython",
    "version": 3
   },
   "file_extension": ".py",
   "mimetype": "text/x-python",
   "name": "python",
   "nbconvert_exporter": "python",
   "pygments_lexer": "ipython3",
   "version": "3.9.12"
  }
 },
 "nbformat": 4,
 "nbformat_minor": 5
}
